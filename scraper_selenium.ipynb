{
 "cells": [
  {
   "cell_type": "code",
   "execution_count": 13,
   "id": "2da23ecb-70d4-449a-b1f1-95f4df0b430b",
   "metadata": {
    "tags": []
   },
   "outputs": [],
   "source": [
    "from selenium import webdriver\n",
    "from selenium.webdriver.common.by import By\n",
    "from selenium.webdriver.support.ui import WebDriverWait\n",
    "import time\n",
    "from selenium.webdriver.support import expected_conditions as EC"
   ]
  },
  {
   "cell_type": "code",
   "execution_count": 15,
   "id": "a1af2721-4a2b-42ef-ae16-e1e8e1e2a048",
   "metadata": {
    "tags": []
   },
   "outputs": [],
   "source": [
    "def print_information():\n",
    "    print(\"Job Title:\", job_title)\n",
    "    print(\"Salary Estimate:\", salary_estimate)\n",
    "    print(\"Rating:\", rating)\n",
    "    #print(\"Company Name:\", company_name)\n",
    "    print(\"Location:\", location)\n",
    "    print(\"\\n\")"
   ]
  },
  {
   "cell_type": "code",
   "execution_count": 59,
   "id": "495f1f4d-1a92-4750-933f-5e17e7e21d8f",
   "metadata": {
    "tags": []
   },
   "outputs": [],
   "source": [
    "def close_login(driver):\n",
    "    time.sleep(1)\n",
    "    try:\n",
    "        print(\"let me check\")\n",
    "        driver.find_element_by_class_name(\"ModalContainer\")\n",
    "        print(\"Theres open login\")\n",
    "        #find_element_by_class_name(\"closeButtonWrapper\").click()\n",
    "        find_element_by_class_name(\"d-flex flex-column flex-grow-1\").click()\n",
    "        find_element_by_class_name(\"CloseButton\").click()\n",
    "        print(\"I closed it\")\n",
    "    except:\n",
    "        print(\"No login\")\n",
    "        pass"
   ]
  },
  {
   "cell_type": "code",
   "execution_count": 60,
   "id": "9ad1a931-e351-4e8a-b2e5-394ff5da28a4",
   "metadata": {
    "tags": []
   },
   "outputs": [
    {
     "name": "stdout",
     "output_type": "stream",
     "text": [
      "let me check\n",
      "No login\n",
      "Job Title: Data Scientist\n",
      "Salary Estimate: $72,500\n",
      "Rating: 3.9 ★\n",
      "Location: Remote\n",
      "\n",
      "\n",
      "let me check\n",
      "Theres open login\n",
      "No login\n",
      "Job Title: Data Scientist\n",
      "Salary Estimate: $72,500\n",
      "Rating: 3.9 ★\n",
      "Location: Provo, UT\n",
      "\n",
      "\n"
     ]
    },
    {
     "ename": "ElementClickInterceptedException",
     "evalue": "Message: element click intercepted: Element <li class=\"JobsList_jobListItem__JBBUV\" data-brandviews=\"MODULE:n=jsearch-job-listing:eid=3109071:jlid=1008930949294\" data-jobid=\"1008930949294\" data-test=\"jobListing\" tabindex=\"0\" data-triggered-brandview=\"\">...</li> is not clickable at point (182, 669). Other element would receive the click: <div class=\"ModalOverlay\" role=\"presentation\"></div>\n  (Session info: chrome=118.0.5993.70)\n",
     "output_type": "error",
     "traceback": [
      "\u001b[0;31m---------------------------------------------------------------------------\u001b[0m",
      "\u001b[0;31mElementClickInterceptedException\u001b[0m          Traceback (most recent call last)",
      "Cell \u001b[0;32mIn[60], line 29\u001b[0m\n\u001b[1;32m     27\u001b[0m jobs_list \u001b[38;5;241m=\u001b[39m driver\u001b[38;5;241m.\u001b[39mfind_elements_by_class_name(\u001b[38;5;124m\"\u001b[39m\u001b[38;5;124mJobsList_jobListItem__JBBUV\u001b[39m\u001b[38;5;124m\"\u001b[39m)\n\u001b[1;32m     28\u001b[0m \u001b[38;5;28;01mfor\u001b[39;00m job_li \u001b[38;5;129;01min\u001b[39;00m jobs_list:\n\u001b[0;32m---> 29\u001b[0m     job_li\u001b[38;5;241m.\u001b[39mclick()\n\u001b[1;32m     30\u001b[0m     close_login(driver)\n\u001b[1;32m     32\u001b[0m     job_title \u001b[38;5;241m=\u001b[39m driver\u001b[38;5;241m.\u001b[39mfind_element(By\u001b[38;5;241m.\u001b[39mCLASS_NAME, \u001b[38;5;124m\"\u001b[39m\u001b[38;5;124mJobDetails_jobTitle__Rw_gn\u001b[39m\u001b[38;5;124m\"\u001b[39m)\u001b[38;5;241m.\u001b[39mtext\n",
      "File \u001b[0;32m~/miniconda3/envs/proj_glassdoor/lib/python3.11/site-packages/selenium/webdriver/remote/webelement.py:80\u001b[0m, in \u001b[0;36mWebElement.click\u001b[0;34m(self)\u001b[0m\n\u001b[1;32m     78\u001b[0m \u001b[38;5;28;01mdef\u001b[39;00m \u001b[38;5;21mclick\u001b[39m(\u001b[38;5;28mself\u001b[39m):\n\u001b[1;32m     79\u001b[0m \u001b[38;5;250m    \u001b[39m\u001b[38;5;124;03m\"\"\"Clicks the element.\"\"\"\u001b[39;00m\n\u001b[0;32m---> 80\u001b[0m     \u001b[38;5;28mself\u001b[39m\u001b[38;5;241m.\u001b[39m_execute(Command\u001b[38;5;241m.\u001b[39mCLICK_ELEMENT)\n",
      "File \u001b[0;32m~/miniconda3/envs/proj_glassdoor/lib/python3.11/site-packages/selenium/webdriver/remote/webelement.py:633\u001b[0m, in \u001b[0;36mWebElement._execute\u001b[0;34m(self, command, params)\u001b[0m\n\u001b[1;32m    631\u001b[0m     params \u001b[38;5;241m=\u001b[39m {}\n\u001b[1;32m    632\u001b[0m params[\u001b[38;5;124m'\u001b[39m\u001b[38;5;124mid\u001b[39m\u001b[38;5;124m'\u001b[39m] \u001b[38;5;241m=\u001b[39m \u001b[38;5;28mself\u001b[39m\u001b[38;5;241m.\u001b[39m_id\n\u001b[0;32m--> 633\u001b[0m \u001b[38;5;28;01mreturn\u001b[39;00m \u001b[38;5;28mself\u001b[39m\u001b[38;5;241m.\u001b[39m_parent\u001b[38;5;241m.\u001b[39mexecute(command, params)\n",
      "File \u001b[0;32m~/miniconda3/envs/proj_glassdoor/lib/python3.11/site-packages/selenium/webdriver/remote/webdriver.py:321\u001b[0m, in \u001b[0;36mWebDriver.execute\u001b[0;34m(self, driver_command, params)\u001b[0m\n\u001b[1;32m    319\u001b[0m response \u001b[38;5;241m=\u001b[39m \u001b[38;5;28mself\u001b[39m\u001b[38;5;241m.\u001b[39mcommand_executor\u001b[38;5;241m.\u001b[39mexecute(driver_command, params)\n\u001b[1;32m    320\u001b[0m \u001b[38;5;28;01mif\u001b[39;00m response:\n\u001b[0;32m--> 321\u001b[0m     \u001b[38;5;28mself\u001b[39m\u001b[38;5;241m.\u001b[39merror_handler\u001b[38;5;241m.\u001b[39mcheck_response(response)\n\u001b[1;32m    322\u001b[0m     response[\u001b[38;5;124m'\u001b[39m\u001b[38;5;124mvalue\u001b[39m\u001b[38;5;124m'\u001b[39m] \u001b[38;5;241m=\u001b[39m \u001b[38;5;28mself\u001b[39m\u001b[38;5;241m.\u001b[39m_unwrap_value(\n\u001b[1;32m    323\u001b[0m         response\u001b[38;5;241m.\u001b[39mget(\u001b[38;5;124m'\u001b[39m\u001b[38;5;124mvalue\u001b[39m\u001b[38;5;124m'\u001b[39m, \u001b[38;5;28;01mNone\u001b[39;00m))\n\u001b[1;32m    324\u001b[0m     \u001b[38;5;28;01mreturn\u001b[39;00m response\n",
      "File \u001b[0;32m~/miniconda3/envs/proj_glassdoor/lib/python3.11/site-packages/selenium/webdriver/remote/errorhandler.py:242\u001b[0m, in \u001b[0;36mErrorHandler.check_response\u001b[0;34m(self, response)\u001b[0m\n\u001b[1;32m    240\u001b[0m         alert_text \u001b[38;5;241m=\u001b[39m value[\u001b[38;5;124m'\u001b[39m\u001b[38;5;124malert\u001b[39m\u001b[38;5;124m'\u001b[39m]\u001b[38;5;241m.\u001b[39mget(\u001b[38;5;124m'\u001b[39m\u001b[38;5;124mtext\u001b[39m\u001b[38;5;124m'\u001b[39m)\n\u001b[1;32m    241\u001b[0m     \u001b[38;5;28;01mraise\u001b[39;00m exception_class(message, screen, stacktrace, alert_text)\n\u001b[0;32m--> 242\u001b[0m \u001b[38;5;28;01mraise\u001b[39;00m exception_class(message, screen, stacktrace)\n",
      "\u001b[0;31mElementClickInterceptedException\u001b[0m: Message: element click intercepted: Element <li class=\"JobsList_jobListItem__JBBUV\" data-brandviews=\"MODULE:n=jsearch-job-listing:eid=3109071:jlid=1008930949294\" data-jobid=\"1008930949294\" data-test=\"jobListing\" tabindex=\"0\" data-triggered-brandview=\"\">...</li> is not clickable at point (182, 669). Other element would receive the click: <div class=\"ModalOverlay\" role=\"presentation\"></div>\n  (Session info: chrome=118.0.5993.70)\n"
     ]
    }
   ],
   "source": [
    "# Define the keyword\n",
    "keyword = \"data+scientist\"\n",
    "\n",
    "# Define the URL\n",
    "url = f\"https://www.glassdoor.com/Job/jobs.htm?suggestCount=0&suggestChosen=false&clickSource=searchBtn&typedKeyword={keyword}&sc.keyword={keyword}&locT=&locId=&jobType=\"\n",
    "\n",
    "# Initialize the web driver (e.g., Chrome)\n",
    "driver = webdriver.Chrome()\n",
    "\n",
    "# Open the Glassdoor URL\n",
    "driver.get(url)\n",
    "\n",
    "# Wait for job listings to load (adjust the timeout as needed)\n",
    "#wait = WebDriverWait(driver, 10)\n",
    "WebDriverWait(driver, 10).until(\n",
    "    EC.visibility_of_element_located((By.CLASS_NAME, \"JobsList_jobListItem__JBBUV\"))\n",
    ")\n",
    "\n",
    "\n",
    "jobs_result = []\n",
    "num_job = 2\n",
    "verbose = True\n",
    "\n",
    "while len(jobs_result) < num_job:\n",
    "    \n",
    "    # Get job listings\n",
    "    jobs_list = driver.find_elements_by_class_name(\"JobsList_jobListItem__JBBUV\")\n",
    "    for job_li in jobs_list:\n",
    "        job_li.click()\n",
    "        close_login(driver)\n",
    "        \n",
    "        job_title = driver.find_element(By.CLASS_NAME, \"JobDetails_jobTitle__Rw_gn\").text\n",
    "        #salary_estimate = driver.find_element(By.CLASS_NAME, \"SalaryEstimate_averageEstimate__xF_7h\").text\n",
    "        rating = driver.find_element(By.CLASS_NAME, \"EmployerProfile_employerRating__lq_ZL\").text\n",
    "        #company_name = driver.find_element_by_xpath(\".//*[@id='3378']/div[2]/text()\").text\n",
    "        location = driver.find_element(By.CLASS_NAME, \"JobDetails_location__MbnUM\").text\n",
    "\n",
    "        if (verbose):\n",
    "            print_information()\n",
    "\n",
    "    jobs_result.append({\"Job Title\" : job_title,\n",
    "         #   \"Salary Estimate\" : salary_estimate,\n",
    "            #\"Job Description\" : job_description,\n",
    "            \"Rating\" : rating,\n",
    "            #\"Company Name\" : company_name,\n",
    "            \"Location\" : location})\n",
    "\n",
    "# Close the browser\n",
    "driver.quit()\n"
   ]
  }
 ],
 "metadata": {
  "kernelspec": {
   "display_name": "Python 3 (ipykernel)",
   "language": "python",
   "name": "python3"
  },
  "language_info": {
   "codemirror_mode": {
    "name": "ipython",
    "version": 3
   },
   "file_extension": ".py",
   "mimetype": "text/x-python",
   "name": "python",
   "nbconvert_exporter": "python",
   "pygments_lexer": "ipython3",
   "version": "3.11.5"
  }
 },
 "nbformat": 4,
 "nbformat_minor": 5
}
