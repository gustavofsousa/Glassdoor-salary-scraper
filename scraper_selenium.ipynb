{
 "cells": [
  {
   "cell_type": "code",
   "execution_count": 1,
   "id": "2da23ecb-70d4-449a-b1f1-95f4df0b430b",
   "metadata": {
    "tags": []
   },
   "outputs": [],
   "source": [
    "from selenium import webdriver\n",
    "from selenium.webdriver.common.by import By\n",
    "from selenium.webdriver.support.ui import WebDriverWait\n",
    "import time\n",
    "from selenium.webdriver.support import expected_conditions as EC"
   ]
  },
  {
   "cell_type": "code",
   "execution_count": 29,
   "id": "a1af2721-4a2b-42ef-ae16-e1e8e1e2a048",
   "metadata": {
    "tags": []
   },
   "outputs": [],
   "source": [
    "def print_information(job_info):\n",
    "    print(\"\\n\\tRESULT OF ROUND\")\n",
    "    print(\"Job Title:\", job_info['job_title'])\n",
    "    print(\"Salary Estimate:\", job_info['salary_estimate'])\n",
    "    print(\"Rating:\", job_info['rating'])\n",
    "    # print(\"Company Name:\", job_info['company_name'])\n",
    "    print(\"Location:\", job_info['location'])\n",
    "    print(\"\\n\")"
   ]
  },
  {
   "cell_type": "code",
   "execution_count": 3,
   "id": "495f1f4d-1a92-4750-933f-5e17e7e21d8f",
   "metadata": {
    "tags": []
   },
   "outputs": [],
   "source": [
    "## The objective is to check if there's a open login window and close it.\n",
    "def close_login(driver, verbose):\n",
    "    # Open Window\n",
    "    try:\n",
    "        WebDriverWait(driver, 1).until(\n",
    "            EC.element_to_be_clickable((By.CLASS_NAME, \"ModalContainer\"))\n",
    "        )\n",
    "        if (verbose): print(\"Theres a login pop up\")\n",
    "    except: \n",
    "        if (verbose): print(\"There's no login pop up\")\n",
    "        return\n",
    "    # Close window\n",
    "    try:\n",
    "        button = driver.find_element_by_class_name(\"CloseButton\")\n",
    "        driver.execute_script(\"arguments[0].click();\", button)\n",
    "        if (verbose): print(\"Pop up login closed\")\n",
    "    except:\n",
    "        if (verbose): print(\"Fail to close login\")"
   ]
  },
  {
   "cell_type": "code",
   "execution_count": 31,
   "id": "3369bc32-7791-4c1b-a04c-0e3efbc70eca",
   "metadata": {
    "tags": []
   },
   "outputs": [],
   "source": [
    "def catch_information(driver):\n",
    "    job_info = {\n",
    "        'job_title': driver.find_element(By.CLASS_NAME, \"JobDetails_jobTitle__Rw_gn\").text,\n",
    "        'salary_estimate': \"\",\n",
    "        #'job_Description':driver.find_element\n",
    "        'rating': driver.find_element(By.CLASS_NAME, \"EmployerProfile_employerRating__lq_ZL\").text,\n",
    "        #'company_name' = driver.find_element_by_spath(\".//*[@id='3378']/div[2]/text()\").text\n",
    "        'location': driver.find_element(By.CLASS_NAME, \"JobDetails_location__MbnUM\").text\n",
    "    }\n",
    "    try:\n",
    "        job_info['salary_estimate'] = driver.find_element(By.CLASS_NAME, \"SalaryEstimate_averageEstimate__xF_7h\").text\n",
    "    except:\n",
    "        print(\"This jobs doesnt have a salary estimative\")\n",
    "    return (job_info)"
   ]
  },
  {
   "cell_type": "code",
   "execution_count": 8,
   "id": "42dfca40-66cd-4278-88f4-6966ab2894b5",
   "metadata": {
    "tags": []
   },
   "outputs": [],
   "source": [
    "# intent to save information and, if nonexist, let it empty.\n",
    "def save_information(jobs_result, job_info):\n",
    "    jobs_result.append({\n",
    "        \"Job Title\": job_info.get(\"job_title\", \"\"),\n",
    "        \"Salary Estimate\" : job_info.get(\"salary_estimate\", \"\"),\n",
    "        \"Job description\" : job_info.get(\"job_description\", \"\"),\n",
    "        \"Rating\": job_info.get(\"rating\", \"\"),\n",
    "        \"Company Name\" : job_info.get(\"company_name\", \"\"),\n",
    "        \"Location\": job_info.get(\"location\", \"\")\n",
    "    })"
   ]
  },
  {
   "cell_type": "code",
   "execution_count": null,
   "id": "8380338c-ecae-48e0-90c0-c9b113528d9a",
   "metadata": {
    "tags": []
   },
   "outputs": [],
   "source": []
  },
  {
   "cell_type": "code",
   "execution_count": 34,
   "id": "9ad1a931-e351-4e8a-b2e5-394ff5da28a4",
   "metadata": {
    "tags": []
   },
   "outputs": [],
   "source": [
    "def get_jobs():\n",
    "    keyword = \"data+scientist\"\n",
    "    url = f\"https://www.glassdoor.com/Job/jobs.htm?suggestCount=0&suggestChosen=false&clickSource=searchBtn&typedKeyword={keyword}&sc.keyword={keyword}&locT=&locId=&jobType=\"\n",
    "    driver = webdriver.Chrome()\n",
    "    # Open the Glassdoor URL\n",
    "    driver.get(url)\n",
    "    # Wait for job listings to load (adjust the timeout as needed)\n",
    "    WebDriverWait(driver, 10).until(\n",
    "        EC.visibility_of_element_located((By.CLASS_NAME, \"JobsList_jobListItem__JBBUV\"))\n",
    "    )\n",
    "\n",
    "    jobs_result = []\n",
    "    num_job = 7\n",
    "    verbose = True\n",
    "    jobs_list = driver.find_elements_by_class_name(\"JobsList_jobListItem__JBBUV\")\n",
    "    for job in jobs_list:\n",
    "        job.click()\n",
    "        close_login(driver, verbose)\n",
    "        job_info = catch_information(driver)\n",
    "        if (verbose):\n",
    "            print_information(job_info)\n",
    "        save_information(jobs_result, job_info)\n",
    "        if (len(jobs_result) == num_job):\n",
    "            break\n",
    "    # Close the browser\n",
    "    #driver.quit()\n",
    "    print(\"Complete\")\n"
   ]
  },
  {
   "cell_type": "code",
   "execution_count": 35,
   "id": "a11b7038-3606-40c5-92b4-b9898bf133aa",
   "metadata": {
    "tags": []
   },
   "outputs": [
    {
     "name": "stdout",
     "output_type": "stream",
     "text": [
      "There's no login pop up\n",
      "\n",
      "\tRESULT OF ROUND\n",
      "Job Title: Junior Data Scientist\n",
      "Salary Estimate: $62,000\n",
      "Rating: 4 ★\n",
      "Location: Remote\n",
      "\n",
      "\n",
      "Theres a login pop up\n",
      "Pop up login closed\n",
      "\n",
      "\tRESULT OF ROUND\n",
      "Job Title: Data Scientist\n",
      "Salary Estimate: $95,888\n",
      "Rating: 4 ★\n",
      "Location: Dallas, TX\n",
      "\n",
      "\n",
      "There's no login pop up\n",
      "\n",
      "\tRESULT OF ROUND\n",
      "Job Title: Senior Data Scientist\n",
      "Salary Estimate: $174,000\n",
      "Rating: 4 ★\n",
      "Location: Remote\n",
      "\n",
      "\n",
      "There's no login pop up\n",
      "This jobs doesnt have a salary estimative\n",
      "\n",
      "\tRESULT OF ROUND\n",
      "Job Title: Data Scientist\n",
      "Salary Estimate: \n",
      "Rating: 4 ★\n",
      "Location: Remote\n",
      "\n",
      "\n",
      "There's no login pop up\n",
      "\n",
      "\tRESULT OF ROUND\n",
      "Job Title: Data Scientist\n",
      "Salary Estimate: $70.00\n",
      "Rating: 4 ★\n",
      "Location: Gaithersburg, MD\n",
      "\n",
      "\n",
      "There's no login pop up\n",
      "\n",
      "\tRESULT OF ROUND\n",
      "Job Title: Geospatial Data Scientist\n",
      "Salary Estimate: $67.50\n",
      "Rating: 4 ★\n",
      "Location: Mountain View, CA\n",
      "\n",
      "\n",
      "There's no login pop up\n",
      "\n",
      "\tRESULT OF ROUND\n",
      "Job Title: Data Scientist\n",
      "Salary Estimate: $125,000\n",
      "Rating: 4 ★\n",
      "Location: Los Angeles, CA\n",
      "\n",
      "\n",
      "Complete\n"
     ]
    }
   ],
   "source": [
    "if __name__ == \"__main__\":\n",
    "    get_jobs()"
   ]
  }
 ],
 "metadata": {
  "kernelspec": {
   "display_name": "Python 3 (ipykernel)",
   "language": "python",
   "name": "python3"
  },
  "language_info": {
   "codemirror_mode": {
    "name": "ipython",
    "version": 3
   },
   "file_extension": ".py",
   "mimetype": "text/x-python",
   "name": "python",
   "nbconvert_exporter": "python",
   "pygments_lexer": "ipython3",
   "version": "3.11.5"
  }
 },
 "nbformat": 4,
 "nbformat_minor": 5
}
