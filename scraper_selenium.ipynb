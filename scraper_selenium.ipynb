{
 "cells": [
  {
   "cell_type": "code",
   "execution_count": 1,
   "id": "2da23ecb-70d4-449a-b1f1-95f4df0b430b",
   "metadata": {
    "tags": []
   },
   "outputs": [],
   "source": [
    "from selenium import webdriver\n",
    "from selenium.webdriver.common.by import By\n",
    "from selenium.webdriver.support.ui import WebDriverWait\n",
    "import time\n",
    "from selenium.webdriver.support import expected_conditions as EC"
   ]
  },
  {
   "cell_type": "code",
   "execution_count": 5,
   "id": "a1af2721-4a2b-42ef-ae16-e1e8e1e2a048",
   "metadata": {
    "tags": []
   },
   "outputs": [],
   "source": [
    "def print_information():\n",
    "    print(\"Job Title:\", job_title)\n",
    "    #print(\"Salary Estimate:\", salary_estimate)\n",
    "    print(\"Rating:\", rating)\n",
    "    #print(\"Company Name:\", company_name)\n",
    "    print(\"Location:\", location)\n",
    "    print(\"\\n\")"
   ]
  },
  {
   "cell_type": "code",
   "execution_count": 65,
   "id": "495f1f4d-1a92-4750-933f-5e17e7e21d8f",
   "metadata": {
    "tags": []
   },
   "outputs": [],
   "source": [
    "## The objective is to check if there's a open open pop up to login and close it.\n",
    "def close_login(driver):\n",
    "    try:\n",
    "        WebDriverWait(driver, 1).until(\n",
    "            EC.element_to_be_clickable((By.CLASS_NAME, \"ModalContainer\"))\n",
    "        )\n",
    "        if (verbose): print(\"Theres a login pop up\")\n",
    "    except: \n",
    "        if (verbose): print(\"There's no login pop up\")\n",
    "        return\n",
    "    try:\n",
    "        button = driver.find_element_by_class_name(\"CloseButton\")\n",
    "        driver.execute_script(\"arguments[0].click();\", button)\n",
    "        if (verbose): print(\"Pop up login closed\")\n",
    "    except:\n",
    "        if (verbose): print(\"Fail to close login\")"
   ]
  },
  {
   "cell_type": "code",
   "execution_count": 64,
   "id": "9ad1a931-e351-4e8a-b2e5-394ff5da28a4",
   "metadata": {
    "tags": []
   },
   "outputs": [
    {
     "name": "stdout",
     "output_type": "stream",
     "text": [
      "no pop up to login\n",
      "Pop up login closed\n",
      "no pop up to login\n",
      "no pop up to login\n",
      "no pop up to login\n",
      "no pop up to login\n"
     ]
    },
    {
     "ename": "NoSuchWindowException",
     "evalue": "Message: no such window: target window already closed\nfrom unknown error: web view not found\n  (Session info: chrome=118.0.5993.88)\n",
     "output_type": "error",
     "traceback": [
      "\u001b[0;31m---------------------------------------------------------------------------\u001b[0m",
      "\u001b[0;31mNoSuchWindowException\u001b[0m                     Traceback (most recent call last)",
      "Cell \u001b[0;32mIn[64], line 31\u001b[0m\n\u001b[1;32m     28\u001b[0m job_li\u001b[38;5;241m.\u001b[39mclick()\n\u001b[1;32m     29\u001b[0m close_login(driver)\n\u001b[0;32m---> 31\u001b[0m job_title \u001b[38;5;241m=\u001b[39m driver\u001b[38;5;241m.\u001b[39mfind_element(By\u001b[38;5;241m.\u001b[39mCLASS_NAME, \u001b[38;5;124m\"\u001b[39m\u001b[38;5;124mJobDetails_jobTitle__Rw_gn\u001b[39m\u001b[38;5;124m\"\u001b[39m)\u001b[38;5;241m.\u001b[39mtext\n\u001b[1;32m     32\u001b[0m \u001b[38;5;66;03m#salary_estimate = driver.find_element(By.CLASS_NAME, \"SalaryEstimate_averageEstimate__xF_7h\").text\u001b[39;00m\n\u001b[1;32m     33\u001b[0m rating \u001b[38;5;241m=\u001b[39m driver\u001b[38;5;241m.\u001b[39mfind_element(By\u001b[38;5;241m.\u001b[39mCLASS_NAME, \u001b[38;5;124m\"\u001b[39m\u001b[38;5;124mEmployerProfile_employerRating__lq_ZL\u001b[39m\u001b[38;5;124m\"\u001b[39m)\u001b[38;5;241m.\u001b[39mtext\n",
      "File \u001b[0;32m~/miniconda3/envs/proj_glassdoor/lib/python3.11/site-packages/selenium/webdriver/remote/webdriver.py:976\u001b[0m, in \u001b[0;36mWebDriver.find_element\u001b[0;34m(self, by, value)\u001b[0m\n\u001b[1;32m    974\u001b[0m         by \u001b[38;5;241m=\u001b[39m By\u001b[38;5;241m.\u001b[39mCSS_SELECTOR\n\u001b[1;32m    975\u001b[0m         value \u001b[38;5;241m=\u001b[39m \u001b[38;5;124m'\u001b[39m\u001b[38;5;124m[name=\u001b[39m\u001b[38;5;124m\"\u001b[39m\u001b[38;5;132;01m%s\u001b[39;00m\u001b[38;5;124m\"\u001b[39m\u001b[38;5;124m]\u001b[39m\u001b[38;5;124m'\u001b[39m \u001b[38;5;241m%\u001b[39m value\n\u001b[0;32m--> 976\u001b[0m \u001b[38;5;28;01mreturn\u001b[39;00m \u001b[38;5;28mself\u001b[39m\u001b[38;5;241m.\u001b[39mexecute(Command\u001b[38;5;241m.\u001b[39mFIND_ELEMENT, {\n\u001b[1;32m    977\u001b[0m     \u001b[38;5;124m'\u001b[39m\u001b[38;5;124musing\u001b[39m\u001b[38;5;124m'\u001b[39m: by,\n\u001b[1;32m    978\u001b[0m     \u001b[38;5;124m'\u001b[39m\u001b[38;5;124mvalue\u001b[39m\u001b[38;5;124m'\u001b[39m: value})[\u001b[38;5;124m'\u001b[39m\u001b[38;5;124mvalue\u001b[39m\u001b[38;5;124m'\u001b[39m]\n",
      "File \u001b[0;32m~/miniconda3/envs/proj_glassdoor/lib/python3.11/site-packages/selenium/webdriver/remote/webdriver.py:321\u001b[0m, in \u001b[0;36mWebDriver.execute\u001b[0;34m(self, driver_command, params)\u001b[0m\n\u001b[1;32m    319\u001b[0m response \u001b[38;5;241m=\u001b[39m \u001b[38;5;28mself\u001b[39m\u001b[38;5;241m.\u001b[39mcommand_executor\u001b[38;5;241m.\u001b[39mexecute(driver_command, params)\n\u001b[1;32m    320\u001b[0m \u001b[38;5;28;01mif\u001b[39;00m response:\n\u001b[0;32m--> 321\u001b[0m     \u001b[38;5;28mself\u001b[39m\u001b[38;5;241m.\u001b[39merror_handler\u001b[38;5;241m.\u001b[39mcheck_response(response)\n\u001b[1;32m    322\u001b[0m     response[\u001b[38;5;124m'\u001b[39m\u001b[38;5;124mvalue\u001b[39m\u001b[38;5;124m'\u001b[39m] \u001b[38;5;241m=\u001b[39m \u001b[38;5;28mself\u001b[39m\u001b[38;5;241m.\u001b[39m_unwrap_value(\n\u001b[1;32m    323\u001b[0m         response\u001b[38;5;241m.\u001b[39mget(\u001b[38;5;124m'\u001b[39m\u001b[38;5;124mvalue\u001b[39m\u001b[38;5;124m'\u001b[39m, \u001b[38;5;28;01mNone\u001b[39;00m))\n\u001b[1;32m    324\u001b[0m     \u001b[38;5;28;01mreturn\u001b[39;00m response\n",
      "File \u001b[0;32m~/miniconda3/envs/proj_glassdoor/lib/python3.11/site-packages/selenium/webdriver/remote/errorhandler.py:242\u001b[0m, in \u001b[0;36mErrorHandler.check_response\u001b[0;34m(self, response)\u001b[0m\n\u001b[1;32m    240\u001b[0m         alert_text \u001b[38;5;241m=\u001b[39m value[\u001b[38;5;124m'\u001b[39m\u001b[38;5;124malert\u001b[39m\u001b[38;5;124m'\u001b[39m]\u001b[38;5;241m.\u001b[39mget(\u001b[38;5;124m'\u001b[39m\u001b[38;5;124mtext\u001b[39m\u001b[38;5;124m'\u001b[39m)\n\u001b[1;32m    241\u001b[0m     \u001b[38;5;28;01mraise\u001b[39;00m exception_class(message, screen, stacktrace, alert_text)\n\u001b[0;32m--> 242\u001b[0m \u001b[38;5;28;01mraise\u001b[39;00m exception_class(message, screen, stacktrace)\n",
      "\u001b[0;31mNoSuchWindowException\u001b[0m: Message: no such window: target window already closed\nfrom unknown error: web view not found\n  (Session info: chrome=118.0.5993.88)\n"
     ]
    }
   ],
   "source": [
    "# Define the keyword\n",
    "keyword = \"data+scientist\"\n",
    "\n",
    "# Define the URL\n",
    "url = f\"https://www.glassdoor.com/Job/jobs.htm?suggestCount=0&suggestChosen=false&clickSource=searchBtn&typedKeyword={keyword}&sc.keyword={keyword}&locT=&locId=&jobType=\"\n",
    "\n",
    "# Initialize the web driver (e.g., Chrome)\n",
    "driver = webdriver.Chrome()\n",
    "\n",
    "# Open the Glassdoor URL\n",
    "driver.get(url)\n",
    "\n",
    "# Wait for job listings to load (adjust the timeout as needed)\n",
    "WebDriverWait(driver, 10).until(\n",
    "    EC.visibility_of_element_located((By.CLASS_NAME, \"JobsList_jobListItem__JBBUV\"))\n",
    ")\n",
    "\n",
    "\n",
    "jobs_result = []\n",
    "num_job = 2\n",
    "verbose = False\n",
    "\n",
    "while len(jobs_result) < num_job:\n",
    "    \n",
    "    # Get job listings\n",
    "    jobs_list = driver.find_elements_by_class_name(\"JobsList_jobListItem__JBBUV\")\n",
    "    for job_li in jobs_list:\n",
    "        job_li.click()\n",
    "        close_login(driver)\n",
    "        \n",
    "        job_title = driver.find_element(By.CLASS_NAME, \"JobDetails_jobTitle__Rw_gn\").text\n",
    "        #salary_estimate = driver.find_element(By.CLASS_NAME, \"SalaryEstimate_averageEstimate__xF_7h\").text\n",
    "        rating = driver.find_element(By.CLASS_NAME, \"EmployerProfile_employerRating__lq_ZL\").text\n",
    "        #company_name = driver.find_element_by_xpath(\".//*[@id='3378']/div[2]/text()\").text\n",
    "        location = driver.find_element(By.CLASS_NAME, \"JobDetails_location__MbnUM\").text\n",
    "\n",
    "        if (verbose):\n",
    "            print_information()\n",
    "\n",
    "    jobs_result.append({\"Job Title\" : job_title,\n",
    "         #   \"Salary Estimate\" : salary_estimate,\n",
    "            #\"Job Description\" : job_description,\n",
    "            \"Rating\" : rating,\n",
    "            #\"Company Name\" : company_name,\n",
    "            \"Location\" : location})\n",
    "\n",
    "# Close the browser\n",
    "driver.quit()\n"
   ]
  }
 ],
 "metadata": {
  "kernelspec": {
   "display_name": "Python 3 (ipykernel)",
   "language": "python",
   "name": "python3"
  },
  "language_info": {
   "codemirror_mode": {
    "name": "ipython",
    "version": 3
   },
   "file_extension": ".py",
   "mimetype": "text/x-python",
   "name": "python",
   "nbconvert_exporter": "python",
   "pygments_lexer": "ipython3",
   "version": "3.11.5"
  }
 },
 "nbformat": 4,
 "nbformat_minor": 5
}
