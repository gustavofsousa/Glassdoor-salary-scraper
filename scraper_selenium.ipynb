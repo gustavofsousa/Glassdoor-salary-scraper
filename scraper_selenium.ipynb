{
 "cells": [
  {
   "cell_type": "code",
   "execution_count": 1,
   "id": "2da23ecb-70d4-449a-b1f1-95f4df0b430b",
   "metadata": {
    "tags": []
   },
   "outputs": [],
   "source": [
    "from selenium import webdriver\n",
    "from selenium.webdriver.common.by import By\n",
    "from selenium.webdriver.support.ui import WebDriverWait\n",
    "import time\n",
    "from selenium.webdriver.support import expected_conditions as EC"
   ]
  },
  {
   "cell_type": "code",
   "execution_count": 47,
   "id": "a1af2721-4a2b-42ef-ae16-e1e8e1e2a048",
   "metadata": {
    "tags": []
   },
   "outputs": [],
   "source": [
    "def print_information(job_info):\n",
    "    print(\"\\n\\tRESULT OF ROUND\")\n",
    "    print(\"Job Title:\", job_info['job_title'])\n",
    "    print(\"Salary Estimate:\", job_info['salary_estimate'])\n",
    "    print(\"Rating:\", job_info['rating'])\n",
    "    print(\"Company Name:\", job_info['company_name'])\n",
    "    print(\"Location:\", job_info['location'])\n",
    "    print(\"Job description:\", job_info['job_description'])\n",
    "    print(\"\\n\")"
   ]
  },
  {
   "cell_type": "code",
   "execution_count": 53,
   "id": "495f1f4d-1a92-4750-933f-5e17e7e21d8f",
   "metadata": {
    "tags": []
   },
   "outputs": [],
   "source": [
    "def close_login(driver):\n",
    "    # check open Window\n",
    "    try:\n",
    "        WebDriverWait(driver, 1).until(\n",
    "            EC.element_to_be_clickable((By.CLASS_NAME, \"ModalContainer\"))\n",
    "        )\n",
    "    except: \n",
    "        return\n",
    "    # Close window\n",
    "    try:\n",
    "        button = driver.find_element_by_class_name(\"CloseButton\")\n",
    "        driver.execute_script(\"arguments[0].click();\", button)\n",
    "    except:\n",
    "        print(\"Fail to close login\")"
   ]
  },
  {
   "cell_type": "code",
   "execution_count": 66,
   "id": "3369bc32-7791-4c1b-a04c-0e3efbc70eca",
   "metadata": {
    "tags": []
   },
   "outputs": [],
   "source": [
    "def catch_information(driver):\n",
    "    job_info = {\n",
    "        'job_title': driver.find_element(By.CLASS_NAME, \"JobDetails_jobTitle__Rw_gn\").text,\n",
    "        'salary_estimate': \"\",\n",
    "        'job_description': driver.find_element_by_xpath('.//*[@id=\"app-navigation\"]/div[3]/div[2]/div[2]/div/section/div/div[1]').text,\n",
    "        'rating': driver.find_element(By.CLASS_NAME, \"EmployerProfile_employerRating__lq_ZL\").text,\n",
    "        'company_name': driver.find_element(By.CLASS_NAME, \"EmployerProfile_profileContainer__nonKT\").text,\n",
    "        'location': driver.find_element(By.CLASS_NAME, \"JobDetails_location__MbnUM\").text\n",
    "    }\n",
    "    try:\n",
    "        job_info['salary_estimate'] = driver.find_element(By.CLASS_NAME, \"SalaryEstimate_averageEstimate__xF_7h\").text\n",
    "    except:\n",
    "        pass\n",
    "    return (job_info)"
   ]
  },
  {
   "cell_type": "code",
   "execution_count": 8,
   "id": "42dfca40-66cd-4278-88f4-6966ab2894b5",
   "metadata": {
    "tags": []
   },
   "outputs": [],
   "source": [
    "# intent to save information and, if nonexist, let it empty.\n",
    "def save_information(jobs_result, job_info):\n",
    "    jobs_result.append({\n",
    "        \"Job Title\": job_info.get(\"job_title\", \"\"),\n",
    "        \"Salary Estimate\" : job_info.get(\"salary_estimate\", \"\"),\n",
    "        \"Job description\" : job_info.get(\"job_description\", \"\"),\n",
    "        \"Rating\": job_info.get(\"rating\", \"\"),\n",
    "        \"Company Name\" : job_info.get(\"company_name\", \"\"),\n",
    "        \"Location\": job_info.get(\"location\", \"\")\n",
    "    })"
   ]
  },
  {
   "cell_type": "code",
   "execution_count": 68,
   "id": "9ad1a931-e351-4e8a-b2e5-394ff5da28a4",
   "metadata": {
    "tags": []
   },
   "outputs": [],
   "source": [
    "def get_jobs():\n",
    "    keyword = \"data+scientist\"\n",
    "    url = f\"https://www.glassdoor.com/Job/jobs.htm?suggestCount=0&suggestChosen=false&clickSource=searchBtn&typedKeyword={keyword}&sc.keyword={keyword}&locT=&locId=&jobType=\"\n",
    "    driver = webdriver.Chrome()\n",
    "    # Open the Glassdoor URL\n",
    "    driver.get(url)\n",
    "    # Wait for job listings to load (adjust the timeout as needed)\n",
    "    WebDriverWait(driver, 10).until(\n",
    "        EC.visibility_of_element_located((By.CLASS_NAME, \"JobsList_jobListItem__JBBUV\"))\n",
    "    )\n",
    "\n",
    "    jobs_result = []\n",
    "    num_job = 3\n",
    "    verbose = True\n",
    "    jobs_list = driver.find_elements_by_class_name(\"JobsList_jobListItem__JBBUV\")\n",
    "    for job in jobs_list:\n",
    "        job.click()\n",
    "        close_login(driver)\n",
    "        job_info = catch_information(driver)\n",
    "        if (verbose):\n",
    "            print_information(job_info)\n",
    "        save_information(jobs_result, job_info)\n",
    "        if (len(jobs_result) == num_job):\n",
    "            break\n",
    "    # Close the browser\n",
    "    driver.quit()\n",
    "    print(\"Complete\")\n"
   ]
  },
  {
   "cell_type": "code",
   "execution_count": 69,
   "id": "a11b7038-3606-40c5-92b4-b9898bf133aa",
   "metadata": {
    "tags": []
   },
   "outputs": [
    {
     "name": "stdout",
     "output_type": "stream",
     "text": [
      "\n",
      "\tRESULT OF ROUND\n",
      "Job Title: Junior Data Scientist\n",
      "Salary Estimate: $62,000\n",
      "Rating: 4 ★\n",
      "Company Name: DonorSearch4 ★\n",
      "Location: Remote\n",
      "Job description: Background:\n",
      "DonorSearch is the leading provider of prospect research solutions and AI-powered technologies, serving over 6,800 nonprofit organizations across the US. We are family-owned, headquartered in Maryland, and have a rapidly-growing remote workforce in every U.S. timezone. With our outstanding reputation and team of innovative professionals, we seek someone to join us to expand our brand and make a lasting impact on the world.\n",
      "At DonorSearch, we value: Innovation, Excellence, Growth, Collaboration, and Quality.\n",
      "Job Summary:\n",
      "DonorSearch Ai introduced deep learning and machine learning into the nonprofit sector by building custom models with a robust interactive visualization tool to help organizations fundraise more efficiently. The Data Scientist will use best-in-class machine learning technologies to develop machine learning algorithms to meet various objectives of fundraising staff.\n",
      "\n",
      "\n"
     ]
    },
    {
     "ename": "NoSuchElementException",
     "evalue": "Message: no such element: Unable to locate element: {\"method\":\"xpath\",\"selector\":\".//*[@id=\"app-navigation\"]/div[3]/div[2]/div[2]/div/section/div/div[1]\"}\n  (Session info: chrome=118.0.5993.88)\n",
     "output_type": "error",
     "traceback": [
      "\u001b[0;31m---------------------------------------------------------------------------\u001b[0m",
      "\u001b[0;31mNoSuchElementException\u001b[0m                    Traceback (most recent call last)",
      "Cell \u001b[0;32mIn[69], line 2\u001b[0m\n\u001b[1;32m      1\u001b[0m \u001b[38;5;28;01mif\u001b[39;00m \u001b[38;5;18m__name__\u001b[39m \u001b[38;5;241m==\u001b[39m \u001b[38;5;124m\"\u001b[39m\u001b[38;5;124m__main__\u001b[39m\u001b[38;5;124m\"\u001b[39m:\n\u001b[0;32m----> 2\u001b[0m     get_jobs()\n",
      "Cell \u001b[0;32mIn[68], line 19\u001b[0m, in \u001b[0;36mget_jobs\u001b[0;34m()\u001b[0m\n\u001b[1;32m     17\u001b[0m job\u001b[38;5;241m.\u001b[39mclick()\n\u001b[1;32m     18\u001b[0m close_login(driver)\n\u001b[0;32m---> 19\u001b[0m job_info \u001b[38;5;241m=\u001b[39m catch_information(driver)\n\u001b[1;32m     20\u001b[0m \u001b[38;5;28;01mif\u001b[39;00m (verbose):\n\u001b[1;32m     21\u001b[0m     print_information(job_info)\n",
      "Cell \u001b[0;32mIn[66], line 5\u001b[0m, in \u001b[0;36mcatch_information\u001b[0;34m(driver)\u001b[0m\n\u001b[1;32m      1\u001b[0m \u001b[38;5;28;01mdef\u001b[39;00m \u001b[38;5;21mcatch_information\u001b[39m(driver):\n\u001b[1;32m      2\u001b[0m     job_info \u001b[38;5;241m=\u001b[39m {\n\u001b[1;32m      3\u001b[0m         \u001b[38;5;124m'\u001b[39m\u001b[38;5;124mjob_title\u001b[39m\u001b[38;5;124m'\u001b[39m: driver\u001b[38;5;241m.\u001b[39mfind_element(By\u001b[38;5;241m.\u001b[39mCLASS_NAME, \u001b[38;5;124m\"\u001b[39m\u001b[38;5;124mJobDetails_jobTitle__Rw_gn\u001b[39m\u001b[38;5;124m\"\u001b[39m)\u001b[38;5;241m.\u001b[39mtext,\n\u001b[1;32m      4\u001b[0m         \u001b[38;5;124m'\u001b[39m\u001b[38;5;124msalary_estimate\u001b[39m\u001b[38;5;124m'\u001b[39m: \u001b[38;5;124m\"\u001b[39m\u001b[38;5;124m\"\u001b[39m,\n\u001b[0;32m----> 5\u001b[0m         \u001b[38;5;124m'\u001b[39m\u001b[38;5;124mjob_description\u001b[39m\u001b[38;5;124m'\u001b[39m: driver\u001b[38;5;241m.\u001b[39mfind_element_by_xpath(\u001b[38;5;124m'\u001b[39m\u001b[38;5;124m.//*[@id=\u001b[39m\u001b[38;5;124m\"\u001b[39m\u001b[38;5;124mapp-navigation\u001b[39m\u001b[38;5;124m\"\u001b[39m\u001b[38;5;124m]/div[3]/div[2]/div[2]/div/section/div/div[1]\u001b[39m\u001b[38;5;124m'\u001b[39m)\u001b[38;5;241m.\u001b[39mtext,\n\u001b[1;32m      6\u001b[0m         \u001b[38;5;124m'\u001b[39m\u001b[38;5;124mrating\u001b[39m\u001b[38;5;124m'\u001b[39m: driver\u001b[38;5;241m.\u001b[39mfind_element(By\u001b[38;5;241m.\u001b[39mCLASS_NAME, \u001b[38;5;124m\"\u001b[39m\u001b[38;5;124mEmployerProfile_employerRating__lq_ZL\u001b[39m\u001b[38;5;124m\"\u001b[39m)\u001b[38;5;241m.\u001b[39mtext,\n\u001b[1;32m      7\u001b[0m         \u001b[38;5;124m'\u001b[39m\u001b[38;5;124mcompany_name\u001b[39m\u001b[38;5;124m'\u001b[39m: driver\u001b[38;5;241m.\u001b[39mfind_element(By\u001b[38;5;241m.\u001b[39mCLASS_NAME, \u001b[38;5;124m\"\u001b[39m\u001b[38;5;124mEmployerProfile_profileContainer__nonKT\u001b[39m\u001b[38;5;124m\"\u001b[39m)\u001b[38;5;241m.\u001b[39mtext,\n\u001b[1;32m      8\u001b[0m         \u001b[38;5;124m'\u001b[39m\u001b[38;5;124mlocation\u001b[39m\u001b[38;5;124m'\u001b[39m: driver\u001b[38;5;241m.\u001b[39mfind_element(By\u001b[38;5;241m.\u001b[39mCLASS_NAME, \u001b[38;5;124m\"\u001b[39m\u001b[38;5;124mJobDetails_location__MbnUM\u001b[39m\u001b[38;5;124m\"\u001b[39m)\u001b[38;5;241m.\u001b[39mtext\n\u001b[1;32m      9\u001b[0m     }\n\u001b[1;32m     10\u001b[0m     \u001b[38;5;28;01mtry\u001b[39;00m:\n\u001b[1;32m     11\u001b[0m         job_info[\u001b[38;5;124m'\u001b[39m\u001b[38;5;124msalary_estimate\u001b[39m\u001b[38;5;124m'\u001b[39m] \u001b[38;5;241m=\u001b[39m driver\u001b[38;5;241m.\u001b[39mfind_element(By\u001b[38;5;241m.\u001b[39mCLASS_NAME, \u001b[38;5;124m\"\u001b[39m\u001b[38;5;124mSalaryEstimate_averageEstimate__xF_7h\u001b[39m\u001b[38;5;124m\"\u001b[39m)\u001b[38;5;241m.\u001b[39mtext\n",
      "File \u001b[0;32m~/miniconda3/envs/proj_glassdoor/lib/python3.11/site-packages/selenium/webdriver/remote/webdriver.py:394\u001b[0m, in \u001b[0;36mWebDriver.find_element_by_xpath\u001b[0;34m(self, xpath)\u001b[0m\n\u001b[1;32m    378\u001b[0m \u001b[38;5;28;01mdef\u001b[39;00m \u001b[38;5;21mfind_element_by_xpath\u001b[39m(\u001b[38;5;28mself\u001b[39m, xpath):\n\u001b[1;32m    379\u001b[0m \u001b[38;5;250m    \u001b[39m\u001b[38;5;124;03m\"\"\"\u001b[39;00m\n\u001b[1;32m    380\u001b[0m \u001b[38;5;124;03m    Finds an element by xpath.\u001b[39;00m\n\u001b[1;32m    381\u001b[0m \n\u001b[0;32m   (...)\u001b[0m\n\u001b[1;32m    392\u001b[0m \u001b[38;5;124;03m        element = driver.find_element_by_xpath('//div/td[1]')\u001b[39;00m\n\u001b[1;32m    393\u001b[0m \u001b[38;5;124;03m    \"\"\"\u001b[39;00m\n\u001b[0;32m--> 394\u001b[0m     \u001b[38;5;28;01mreturn\u001b[39;00m \u001b[38;5;28mself\u001b[39m\u001b[38;5;241m.\u001b[39mfind_element(by\u001b[38;5;241m=\u001b[39mBy\u001b[38;5;241m.\u001b[39mXPATH, value\u001b[38;5;241m=\u001b[39mxpath)\n",
      "File \u001b[0;32m~/miniconda3/envs/proj_glassdoor/lib/python3.11/site-packages/selenium/webdriver/remote/webdriver.py:976\u001b[0m, in \u001b[0;36mWebDriver.find_element\u001b[0;34m(self, by, value)\u001b[0m\n\u001b[1;32m    974\u001b[0m         by \u001b[38;5;241m=\u001b[39m By\u001b[38;5;241m.\u001b[39mCSS_SELECTOR\n\u001b[1;32m    975\u001b[0m         value \u001b[38;5;241m=\u001b[39m \u001b[38;5;124m'\u001b[39m\u001b[38;5;124m[name=\u001b[39m\u001b[38;5;124m\"\u001b[39m\u001b[38;5;132;01m%s\u001b[39;00m\u001b[38;5;124m\"\u001b[39m\u001b[38;5;124m]\u001b[39m\u001b[38;5;124m'\u001b[39m \u001b[38;5;241m%\u001b[39m value\n\u001b[0;32m--> 976\u001b[0m \u001b[38;5;28;01mreturn\u001b[39;00m \u001b[38;5;28mself\u001b[39m\u001b[38;5;241m.\u001b[39mexecute(Command\u001b[38;5;241m.\u001b[39mFIND_ELEMENT, {\n\u001b[1;32m    977\u001b[0m     \u001b[38;5;124m'\u001b[39m\u001b[38;5;124musing\u001b[39m\u001b[38;5;124m'\u001b[39m: by,\n\u001b[1;32m    978\u001b[0m     \u001b[38;5;124m'\u001b[39m\u001b[38;5;124mvalue\u001b[39m\u001b[38;5;124m'\u001b[39m: value})[\u001b[38;5;124m'\u001b[39m\u001b[38;5;124mvalue\u001b[39m\u001b[38;5;124m'\u001b[39m]\n",
      "File \u001b[0;32m~/miniconda3/envs/proj_glassdoor/lib/python3.11/site-packages/selenium/webdriver/remote/webdriver.py:321\u001b[0m, in \u001b[0;36mWebDriver.execute\u001b[0;34m(self, driver_command, params)\u001b[0m\n\u001b[1;32m    319\u001b[0m response \u001b[38;5;241m=\u001b[39m \u001b[38;5;28mself\u001b[39m\u001b[38;5;241m.\u001b[39mcommand_executor\u001b[38;5;241m.\u001b[39mexecute(driver_command, params)\n\u001b[1;32m    320\u001b[0m \u001b[38;5;28;01mif\u001b[39;00m response:\n\u001b[0;32m--> 321\u001b[0m     \u001b[38;5;28mself\u001b[39m\u001b[38;5;241m.\u001b[39merror_handler\u001b[38;5;241m.\u001b[39mcheck_response(response)\n\u001b[1;32m    322\u001b[0m     response[\u001b[38;5;124m'\u001b[39m\u001b[38;5;124mvalue\u001b[39m\u001b[38;5;124m'\u001b[39m] \u001b[38;5;241m=\u001b[39m \u001b[38;5;28mself\u001b[39m\u001b[38;5;241m.\u001b[39m_unwrap_value(\n\u001b[1;32m    323\u001b[0m         response\u001b[38;5;241m.\u001b[39mget(\u001b[38;5;124m'\u001b[39m\u001b[38;5;124mvalue\u001b[39m\u001b[38;5;124m'\u001b[39m, \u001b[38;5;28;01mNone\u001b[39;00m))\n\u001b[1;32m    324\u001b[0m     \u001b[38;5;28;01mreturn\u001b[39;00m response\n",
      "File \u001b[0;32m~/miniconda3/envs/proj_glassdoor/lib/python3.11/site-packages/selenium/webdriver/remote/errorhandler.py:242\u001b[0m, in \u001b[0;36mErrorHandler.check_response\u001b[0;34m(self, response)\u001b[0m\n\u001b[1;32m    240\u001b[0m         alert_text \u001b[38;5;241m=\u001b[39m value[\u001b[38;5;124m'\u001b[39m\u001b[38;5;124malert\u001b[39m\u001b[38;5;124m'\u001b[39m]\u001b[38;5;241m.\u001b[39mget(\u001b[38;5;124m'\u001b[39m\u001b[38;5;124mtext\u001b[39m\u001b[38;5;124m'\u001b[39m)\n\u001b[1;32m    241\u001b[0m     \u001b[38;5;28;01mraise\u001b[39;00m exception_class(message, screen, stacktrace, alert_text)\n\u001b[0;32m--> 242\u001b[0m \u001b[38;5;28;01mraise\u001b[39;00m exception_class(message, screen, stacktrace)\n",
      "\u001b[0;31mNoSuchElementException\u001b[0m: Message: no such element: Unable to locate element: {\"method\":\"xpath\",\"selector\":\".//*[@id=\"app-navigation\"]/div[3]/div[2]/div[2]/div/section/div/div[1]\"}\n  (Session info: chrome=118.0.5993.88)\n"
     ]
    }
   ],
   "source": [
    "if __name__ == \"__main__\":\n",
    "    get_jobs()"
   ]
  }
 ],
 "metadata": {
  "kernelspec": {
   "display_name": "Python 3 (ipykernel)",
   "language": "python",
   "name": "python3"
  },
  "language_info": {
   "codemirror_mode": {
    "name": "ipython",
    "version": 3
   },
   "file_extension": ".py",
   "mimetype": "text/x-python",
   "name": "python",
   "nbconvert_exporter": "python",
   "pygments_lexer": "ipython3",
   "version": "3.11.5"
  }
 },
 "nbformat": 4,
 "nbformat_minor": 5
}
